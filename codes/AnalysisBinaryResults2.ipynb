{
 "cells": [
  {
   "cell_type": "code",
   "execution_count": 1,
   "metadata": {},
   "outputs": [],
   "source": [
    "import pickle\n",
    "import pandas as pd\n",
    "import numpy as np\n",
    "import matplotlib.pyplot as plt\n",
    "from matplotlib import cm\n",
    "import seaborn as sns\n",
    "import math\n",
    "from scipy import stats\n",
    "\n",
    "from sklearn.metrics import confusion_matrix, roc_curve, auc, roc_auc_score, precision_recall_curve, matthews_corrcoef\n",
    "\n",
    "from util import *"
   ]
  },
  {
   "cell_type": "code",
   "execution_count": 12,
   "metadata": {},
   "outputs": [],
   "source": [
    "from compare_model import *\n",
    "\n",
    "def get_val_res(drug, model, split_num):\n",
    "    device = device = torch.device(\"cuda\" if torch.cuda.is_available() else \"cpu\")\n",
    "    # Analysis the results from WDNN\n",
    "    with open(f'../results/{drug}_{model}.pkl', 'rb') as f:\n",
    "        res = pickle.load(f)[split_num]\n",
    "    # Load the best_model and calculate the validation results\n",
    "    _, val_dataloader, _ = load_data_loader(drug, split_num, batch_size=64)\n",
    "    if model == 'WDNN':\n",
    "        model = WDNN(input_dim=val_dataloader.dataset.tensors[0].shape[1], dropout_prob=0.1)\n",
    "    elif model == 'DeepAMR':\n",
    "        model = DeepAMR(input_dim=val_dataloader.dataset.tensors[0].shape[1], dropout_prob=0.1)\n",
    "    model.to(device)\n",
    "    model.load_state_dict(res['best_model'])\n",
    "    model.eval()\n",
    "    val_logits, val_labels = evaluate_model(model, val_dataloader, device)\n",
    "    return roc_auc_score(val_labels, val_logits)"
   ]
  },
  {
   "cell_type": "code",
   "execution_count": 13,
   "metadata": {},
   "outputs": [
    {
     "data": {
      "text/plain": [
       "0.3386634959141982"
      ]
     },
     "execution_count": 13,
     "metadata": {},
     "output_type": "execute_result"
    }
   ],
   "source": [
    "get_val_res('INH', 'DeepAMR', 0)"
   ]
  },
  {
   "cell_type": "code",
   "execution_count": 4,
   "metadata": {},
   "outputs": [
    {
     "data": {
      "text/plain": [
       "0.33865870786516855"
      ]
     },
     "execution_count": 4,
     "metadata": {},
     "output_type": "execute_result"
    }
   ],
   "source": [
    "roc_auc_score(val_labels, val_logits)"
   ]
  },
  {
   "cell_type": "code",
   "execution_count": 6,
   "metadata": {},
   "outputs": [
    {
     "data": {
      "text/plain": [
       "0.9758001038868334"
      ]
     },
     "execution_count": 6,
     "metadata": {},
     "output_type": "execute_result"
    }
   ],
   "source": [
    "with open(f'../results/INH_WDNN.pkl', 'rb') as f:\n",
    "    res = pickle.load(f)[0]\n",
    "\n",
    "roc_auc_score(res['test_labels'], res['test_preds'])"
   ]
  },
  {
   "cell_type": "code",
   "execution_count": 10,
   "metadata": {},
   "outputs": [],
   "source": [
    "def get_test_res(drug, model, split_num):\n",
    "    # Analysis the results from WDNN\n",
    "    with open(f'../results/{drug}_{model}.pkl', 'rb') as f:\n",
    "        res = pickle.load(f)[split_num]\n",
    "    # Load the best_model and calculate the validation results\n",
    "    _, _, test_dataloader = load_data_loader(drug, split_num, batch_size=128)\n",
    "    if model == 'WDNN':\n",
    "        model = WDNN(input_dim=test_dataloader.dataset.tensors[0].shape[1], dropout_prob=0.1)\n",
    "    elif model == 'DeepAMR':\n",
    "        model = DeepAMR(input_dim=test_dataloader.dataset.tensors[0].shape[1], dropout_prob=0.1)\n",
    "    model.load_state_dict(res['best_model'])\n",
    "    model.eval()\n",
    "    val_logits, val_labels = evaluate_model(model, test_dataloader, device='cpu')\n",
    "    return roc_auc_score(val_labels, val_logits)"
   ]
  },
  {
   "cell_type": "code",
   "execution_count": 11,
   "metadata": {},
   "outputs": [
    {
     "data": {
      "text/plain": [
       "0.3513079862206544"
      ]
     },
     "execution_count": 11,
     "metadata": {},
     "output_type": "execute_result"
    }
   ],
   "source": [
    "get_test_res('INH', 'DeepAMR', 0)"
   ]
  },
  {
   "cell_type": "code",
   "execution_count": 2,
   "metadata": {},
   "outputs": [],
   "source": [
    "# function to calculate the auroc for WDNN and DeepAMR\n",
    "def get_auroc(drug, model):\n",
    "    with open(f'../results/{drug}_{model}.pkl', 'rb') as f:\n",
    "        res = pickle.load(f)\n",
    "    auroc_list = []\n",
    "    for i in range(len(res)):\n",
    "        auroc_list.append(roc_auc_score(res[i]['test_labels'], res[i]['test_preds']))\n",
    "    return {'auroc_list': auroc_list, 'auroc': (np.mean(auroc_list), np.std(auroc_list))}"
   ]
  },
  {
   "cell_type": "code",
   "execution_count": 3,
   "metadata": {},
   "outputs": [],
   "source": [
    "# Find the best threshold for classification by the Youden’s J statistic.\n",
    "def find_thr(labels, preds):\n",
    "    fpr, tpr, thresholds = roc_curve(labels, preds)\n",
    "    best_thr = thresholds[np.argmax(tpr - fpr)]\n",
    "    return best_thr\n",
    "\n",
    "\n",
    "# Function to calculate the test results (mean + std)\n",
    "def getBinaryResults(drug, model):\n",
    "    if model == 'WDNN' or model == 'DeepAMR':\n",
    "        return get_auroc(drug, model)\n",
    "\n",
    "    with open(f'../results/{drug}_{model}.pkl', 'rb') as f:\n",
    "        res = pickle.load(f)\n",
    "    if \"bert\" in model or 'nn' in model or 'rf' in model or 'lr' in model:\n",
    "        res_list, best_param_list = res\n",
    "        res = res_list\n",
    "    \n",
    "    sen_list, spe_list, f1_list, mcc_list, auroc_list, auprc_list = [], [], [], [], [], []\n",
    "    res_dict = {}\n",
    "    for i in range(len(res)):\n",
    "        if \"bert\" in model or 'nn' in model or 'rf' in model or 'lr' in model:\n",
    "            train_logits, val_logits, test_logits, y_train, y_val, y_test = res[i]\n",
    "        else:\n",
    "            test_logits, y_test = res[i]\n",
    "        best_thr = find_thr(y_test, test_logits)\n",
    "        y_pred = [1 if x >= best_thr else 0 for x in test_logits]\n",
    "        tn, fp, fn, tp = confusion_matrix(y_test, y_pred).ravel()\n",
    "        sen = tp / (tp + fn)\n",
    "        spe = tn / (tn + fp)\n",
    "        f1 = 2 * tp / (2 * tp + fp + fn)\n",
    "        mcc = matthews_corrcoef(y_test, y_pred)\n",
    "        auroc = roc_auc_score(y_test, test_logits)\n",
    "        precision, recall, _ = precision_recall_curve(y_test, test_logits)\n",
    "        auprc = auc(recall, precision)\n",
    "\n",
    "        sen_list.append(sen)\n",
    "        spe_list.append(spe)\n",
    "        f1_list.append(f1)\n",
    "        mcc_list.append(mcc)\n",
    "        auroc_list.append(auroc)\n",
    "        auprc_list.append(auprc)\n",
    "\n",
    "    res_dict['sen'] = (np.mean(sen_list), np.std(sen_list))\n",
    "    res_dict['spe'] = (np.mean(spe_list), np.std(spe_list))\n",
    "    res_dict['f1'] = (np.mean(f1_list), np.std(f1_list))\n",
    "    res_dict['mcc'] = (np.mean(mcc_list), np.std(mcc_list))\n",
    "    res_dict['auroc'] = (np.mean(auroc_list), np.std(auroc_list))\n",
    "    res_dict['auprc'] = (np.mean(auprc_list), np.std(auprc_list))\n",
    "    res_dict['num_exps'] = len(res)\n",
    "    res_dict['sen_list'] = sen_list\n",
    "    res_dict['spe_list'] = spe_list\n",
    "    res_dict['f1_list'] = f1_list\n",
    "    res_dict['mcc_list'] = mcc_list\n",
    "    res_dict['auroc_list'] = auroc_list\n",
    "    res_dict['auprc_list'] = auprc_list\n",
    "\n",
    "    return res_dict"
   ]
  },
  {
   "cell_type": "code",
   "execution_count": 16,
   "metadata": {},
   "outputs": [],
   "source": [
    "# plot the auroc for all drugs in the Walker dataset\n",
    "def binaryBarPlot(matrix, model_list, model_name, path=None):\n",
    "    drug_list = get_drug_list()\n",
    "    matrix_name = {'sen': 'Sensitivity', 'spe': 'Specificity', 'f1': 'F1-score', 'auroc': 'AUROC', 'mcc': 'MCC', 'auprc': 'AUPRC'}\n",
    "    # group bar plot\n",
    "    X_axis = np.arange(len(drug_list))\n",
    "    res_dict = {}\n",
    "    y_min = 1\n",
    "    for model in model_list:\n",
    "        res_dict[model] = {'mean': [], 'std': []}\n",
    "        for drug in drug_list:\n",
    "            mean_value, std_value = getBinaryResults(drug, model)[matrix]\n",
    "            res_dict[model]['mean'].append(mean_value)\n",
    "            res_dict[model]['std'].append(std_value)\n",
    "            if mean_value < y_min:\n",
    "                y_min = mean_value\n",
    "    # let y_min be the smallest 0.1 multiple\n",
    "    y_min = int(y_min * 10) / 10\n",
    "\n",
    "    width = 0.15\n",
    "    fig, ax = plt.subplots(figsize=(15, 5))\n",
    "    for i, model in enumerate(model_list):\n",
    "        ax.bar(X_axis + i * width, res_dict[model]['mean'], width, label=model_name[model])\n",
    "    # plot the std as error bar with lowlims=True, don't show the arrow\n",
    "    for i, model in enumerate(model_list):\n",
    "        _, caplines, _ = ax.errorbar(X_axis + i * width, res_dict[model]['mean'], yerr=res_dict[model]['std'], fmt='none', ecolor='dimgray', capsize=2, capthick=1, elinewidth=2, lolims=True)\n",
    "        caplines[0].set_marker('_')\n",
    "    \n",
    "    ax.set_ylim(ymin=y_min)\n",
    "    ax.set_xlabel('Drug')\n",
    "    ax.set_ylabel(matrix_name[matrix])\n",
    "    ax.set_xticks(X_axis + width)\n",
    "    ax.set_xticklabels([drug for drug in drug_list])\n",
    "    ax.legend()\n",
    "    if path is not None:\n",
    "        plt.savefig(path, bbox_inches='tight')\n",
    "    plt.show()"
   ]
  },
  {
   "cell_type": "code",
   "execution_count": 17,
   "metadata": {},
   "outputs": [
    {
     "data": {
      "image/png": "[encoded data removed]",
      "text/plain": [
       "<Figure size 1080x360 with 1 Axes>"
      ]
     },
     "metadata": {
      "needs_background": "light"
     },
     "output_type": "display_data"
    }
   ],
   "source": [
    "model_list = ['nn','DeepAMR','WDNN', 'CNNGWP2', 'bert1', 'MutEmbAblation_mean']\n",
    "model_name = {'nn': 'NN', 'bert1': 'HGE-BERT (ours)', 'bert1_no_freeze': 'HGE-BERT (unfrozen)', 'DeepAMR': 'DeepAMR', 'WDNN': 'WDNN', 'CNNGWP2': 'CNNGWP', 'rf': 'RF', 'LR': 'LR', 'MutEmbAblation_mean': 'MutEmb (mean) (ours)'}\n",
    "binaryBarPlot('auroc', model_list, model_name, path='../figures/auroc_barplot.png')"
   ]
  },
  {
   "cell_type": "code",
   "execution_count": 15,
   "metadata": {},
   "outputs": [
    {
     "name": "stdout",
     "output_type": "stream",
     "text": [
      "PZA: 0.001, diff: 1.1%\n",
      "SM: 0.026, diff: 0.7%\n",
      "CAP: 0.031, diff: -3.9%\n",
      "KAN: 0.014, diff: -2.0%\n",
      "\n",
      "RIF: 0.007, diff: 0.2%\n",
      "PZA: 0.006, diff: 0.9%\n",
      "SM: 0.026, diff: 0.6%\n",
      "OFX: 0.043, diff: 1.1%\n",
      "\n"
     ]
    }
   ],
   "source": [
    "# calculate the p-value for the CNNGWP2 and MutEmbAblation_mean for different drugs\n",
    "def get_p_value(model1, model2):\n",
    "    drug_list = get_drug_list()\n",
    "    for drug in drug_list:\n",
    "        res1 = getBinaryResults(drug, model1)['auroc_list']\n",
    "        res2 = getBinaryResults(drug, model2)['auroc_list']\n",
    "        _, p_value = stats.ttest_rel(res1, res2)\n",
    "        diff = np.mean(res2) - np.mean(res1)\n",
    "        if p_value < 0.05:\n",
    "            print(f'{drug}: {p_value:.3f}, diff: {diff:.1%}')\n",
    "    print()\n",
    "\n",
    "get_p_value('CNNGWP2', 'bert1')\n",
    "get_p_value('CNNGWP2', 'MutEmbAblation_mean')"
   ]
  },
  {
   "cell_type": "code",
   "execution_count": null,
   "metadata": {},
   "outputs": [],
   "source": [
    "model_list = ['nn', 'bert' 'bert1', 'MutEmbAblation_mean']\n",
    "model_name = {'nn': 'NN', 'bert1': 'HGE-BERT (ours)', 'bert1_no_freeze': 'HGE-BERT (unfrozen)', 'DeepAMR': 'DeepAMR', 'WDNN': 'WDNN', 'CNNGWP2': 'CNNGWP', 'rf': 'RF', 'LR': 'LR', 'MutEmbAblation_mean': 'MutEmb (mean) (ours)'}\n",
    "binaryBarPlot('auroc', model_list, model_name)"
   ]
  },
  {
   "cell_type": "code",
   "execution_count": 54,
   "metadata": {},
   "outputs": [
    {
     "data": {
      "image/png": "[encoded data removed]",
      "text/plain": [
       "<Figure size 1080x360 with 1 Axes>"
      ]
     },
     "metadata": {
      "needs_background": "light"
     },
     "output_type": "display_data"
    }
   ],
   "source": [
    "model_list = ['nn','DeepAMR','WDNN', 'CNNGWP', 'bert1', 'MutEmbAblation_mean']\n",
    "model_name = {'nn': 'NN', 'bert1': 'HGE-BERT', 'bert1_no_freeze': 'HGE-BERT (unfrozen)', 'DeepAMR': 'DeepAMR', 'WDNN': 'WDNN', 'CNNGWP': 'CNNGWP', 'rf': 'RF', 'LR': 'LR', 'MutEmbAblation_mean': 'MutEmbAblation_mean'}\n",
    "binaryBarPlot('Walker', 'auroc', model_list, model_name)"
   ]
  },
  {
   "cell_type": "code",
   "execution_count": 55,
   "metadata": {},
   "outputs": [
    {
     "name": "stdout",
     "output_type": "stream",
     "text": [
      "('RIF', 'nn') 0.012324602579747873\n",
      "('RIF', 'DeepAMR') 0.0077288102268345555\n",
      "('RIF', 'WDNN') 0.00028255901508565906\n",
      "('INH', 'DeepAMR') 0.0004870513332837785\n",
      "('INH', 'WDNN') 4.010611459969186e-06\n",
      "('INH', 'bert1') 0.01506164320046033\n",
      "('EMB', 'nn') 5.225269192234557e-05\n",
      "('EMB', 'DeepAMR') 0.006707149481929221\n",
      "('EMB', 'WDNN') 1.6469041486802655e-11\n",
      "('PZA', 'nn') 6.757000379687893e-05\n",
      "('PZA', 'DeepAMR') 0.007031570460698449\n",
      "('PZA', 'WDNN') 6.777601829246275e-08\n",
      "('PZA', 'CNNGWP') 0.023226554981764687\n",
      "('PZA', 'bert1') 0.035123800126980645\n",
      "('SM', 'nn') 0.007228562994463389\n",
      "('SM', 'DeepAMR') 0.0008974114958481974\n",
      "('SM', 'WDNN') 4.544565471672367e-09\n",
      "('OFX', 'DeepAMR') 0.028009084700076164\n",
      "('OFX', 'WDNN') 0.007827105921593634\n",
      "('OFX', 'CNNGWP') 0.021571876830546313\n",
      "('CAP', 'nn') 0.04755391995758138\n",
      "('CAP', 'DeepAMR') 0.02739470005354842\n",
      "('CAP', 'WDNN') 0.04774435574791301\n",
      "('CAP', 'bert1') 0.006801827994922884\n",
      "('AK', 'nn') 0.00013604171428305097\n",
      "('KAN', 'DeepAMR') 0.030758949440515604\n",
      "('KAN', 'bert1') 0.01640840338905696\n",
      "('MOX', 'DeepAMR') 0.04718757097208034\n"
     ]
    }
   ],
   "source": [
    "# in terms of the auroc, calculate the p-value of the difference between the two models\n",
    "def binaryPValue(dataset, drug, matrix, model1, model2):\n",
    "    res1 = getBinaryResults(dataset, drug, model1)[matrix + '_list']\n",
    "    res2 = getBinaryResults(dataset, drug, model2)[matrix + '_list']\n",
    "    _, p_value = stats.ttest_rel(res1, res2)\n",
    "    return p_value\n",
    "\n",
    "# calculate the p-value of the difference between the bert1 and bert1_no_freeze models\n",
    "# the matric is auroc\n",
    "drug_list = getDrugList('Walker')\n",
    "model_list = ['nn','DeepAMR','WDNN', 'CNNGWP', 'bert1', 'MutEmbAblation_mean']\n",
    "\n",
    "p_value_dict = {}\n",
    "for drug in drug_list:\n",
    "    for model in model_list:\n",
    "        p_value = binaryPValue('Walker', drug, 'auroc', 'MutEmbAblation_mean', model)\n",
    "        p_value_dict[(drug, model)] = p_value\n",
    "\n",
    "# print the p-value less than 0.05\n",
    "for key in p_value_dict:\n",
    "    if p_value_dict[key] < 0.05:\n",
    "        print(key, p_value_dict[key])"
   ]
  },
  {
   "cell_type": "code",
   "execution_count": 56,
   "metadata": {},
   "outputs": [
    {
     "data": {
      "image/png": "[encoded data removed]",
      "text/plain": [
       "<Figure size 1080x360 with 1 Axes>"
      ]
     },
     "metadata": {
      "needs_background": "light"
     },
     "output_type": "display_data"
    }
   ],
   "source": [
    "model_list = ['nn','DeepAMR','WDNN', 'CNNGWP2', 'bert1', 'MutEmbAblation_mean']\n",
    "model_name = {'nn': 'NN', 'bert1': 'HGE-BERT', 'bert1_no_freeze': 'HGE-BERT (unfrozen)', 'DeepAMR': 'DeepAMR', 'WDNN': 'WDNN', 'CNNGWP2': 'CNNGWP2', 'rf': 'RF', 'LR': 'LR', 'MutEmbAblation_mean': 'MutEmbAblation_mean'}\n",
    "binaryBarPlot('Walker', 'auroc', model_list, model_name)"
   ]
  },
  {
   "cell_type": "code",
   "execution_count": 57,
   "metadata": {},
   "outputs": [
    {
     "name": "stdout",
     "output_type": "stream",
     "text": [
      "('RIF', 'nn') 0.012324602579747873\n",
      "('RIF', 'DeepAMR') 0.0077288102268345555\n",
      "('RIF', 'WDNN') 0.00028255901508565906\n",
      "('RIF', 'CNNGWP2') 0.00714066769792479\n",
      "('INH', 'DeepAMR') 0.0004870513332837785\n",
      "('INH', 'WDNN') 4.010611459969186e-06\n",
      "('INH', 'bert1') 0.01506164320046033\n",
      "('EMB', 'nn') 5.225269192234557e-05\n",
      "('EMB', 'DeepAMR') 0.006707149481929221\n",
      "('EMB', 'WDNN') 1.6469041486802655e-11\n",
      "('PZA', 'nn') 6.757000379687893e-05\n",
      "('PZA', 'DeepAMR') 0.007031570460698449\n",
      "('PZA', 'WDNN') 6.777601829246275e-08\n",
      "('PZA', 'CNNGWP2') 0.005998072504602968\n",
      "('PZA', 'bert1') 0.035123800126980645\n",
      "('SM', 'nn') 0.007228562994463389\n",
      "('SM', 'DeepAMR') 0.0008974114958481974\n",
      "('SM', 'WDNN') 4.544565471672367e-09\n",
      "('SM', 'CNNGWP2') 0.025558291102287273\n",
      "('OFX', 'DeepAMR') 0.028009084700076164\n",
      "('OFX', 'WDNN') 0.007827105921593634\n",
      "('OFX', 'CNNGWP2') 0.043480691935408405\n",
      "('CAP', 'nn') 0.04755391995758138\n",
      "('CAP', 'DeepAMR') 0.02739470005354842\n",
      "('CAP', 'WDNN') 0.04774435574791301\n",
      "('CAP', 'bert1') 0.006801827994922884\n",
      "('AK', 'nn') 0.00013604171428305097\n",
      "('KAN', 'DeepAMR') 0.030758949440515604\n",
      "('KAN', 'bert1') 0.01640840338905696\n",
      "('MOX', 'DeepAMR') 0.04718757097208034\n"
     ]
    }
   ],
   "source": [
    "# in terms of the auroc, calculate the p-value of the difference between the two models\n",
    "def binaryPValue(dataset, drug, matrix, model1, model2):\n",
    "    res1 = getBinaryResults(dataset, drug, model1)[matrix + '_list']\n",
    "    res2 = getBinaryResults(dataset, drug, model2)[matrix + '_list']\n",
    "    _, p_value = stats.ttest_rel(res1, res2)\n",
    "    return p_value\n",
    "\n",
    "# calculate the p-value of the difference between the bert1 and bert1_no_freeze models\n",
    "# the matric is auroc\n",
    "drug_list = getDrugList('Walker')\n",
    "model_list = ['nn','DeepAMR','WDNN', 'CNNGWP2', 'bert1', 'MutEmbAblation_mean']\n",
    "\n",
    "p_value_dict = {}\n",
    "for drug in drug_list:\n",
    "    for model in model_list:\n",
    "        p_value = binaryPValue('Walker', drug, 'auroc', 'MutEmbAblation_mean', model)\n",
    "        p_value_dict[(drug, model)] = p_value\n",
    "\n",
    "# print the p-value less than 0.05\n",
    "for key in p_value_dict:\n",
    "    if p_value_dict[key] < 0.05:\n",
    "        print(key, p_value_dict[key])"
   ]
  },
  {
   "cell_type": "code",
   "execution_count": 41,
   "metadata": {},
   "outputs": [
    {
     "name": "stdout",
     "output_type": "stream",
     "text": [
      "('RIF', 'WDNN') 0.020476818216149755\n",
      "('INH', 'CNNGWP') 0.008826279501785432\n",
      "('EMB', 'nn') 0.020264187040476368\n",
      "('EMB', 'WDNN') 1.371713458104809e-09\n",
      "('PZA', 'nn') 1.101154032814537e-05\n",
      "('PZA', 'DeepAMR') 0.0015469459123927257\n",
      "('PZA', 'WDNN') 3.101306037268242e-08\n",
      "('PZA', 'CNNGWP') 0.002243878154908218\n",
      "('SM', 'nn') 0.014704953148555112\n",
      "('SM', 'DeepAMR') 0.0011220161378383189\n",
      "('SM', 'WDNN') 1.1804353782189343e-07\n",
      "('OFX', 'DeepAMR') 0.03790106728486578\n",
      "('OFX', 'WDNN') 0.03741854267221785\n",
      "('CAP', 'CNNGWP') 0.014514221268263698\n",
      "('KAN', 'CNNGWP') 0.007428217500997465\n"
     ]
    }
   ],
   "source": [
    "# in terms of the auroc, calculate the p-value of the difference between the two models\n",
    "def binaryPValue(dataset, drug, matrix, model1, model2):\n",
    "    res1 = getBinaryResults(dataset, drug, model1)[matrix + '_list']\n",
    "    res2 = getBinaryResults(dataset, drug, model2)[matrix + '_list']\n",
    "    _, p_value = stats.ttest_rel(res1, res2)\n",
    "    return p_value\n",
    "\n",
    "# calculate the p-value of the difference between the bert1 and bert1_no_freeze models\n",
    "# the matric is auroc\n",
    "drug_list = getDrugList('Walker')\n",
    "model_list = ['nn','DeepAMR','WDNN', 'CNNGWP', 'bert1', 'bert1_no_freeze']\n",
    "\n",
    "p_value_dict = {}\n",
    "for drug in drug_list:\n",
    "    for model in model_list:\n",
    "        p_value = binaryPValue('Walker', drug, 'auroc', 'bert1', model)\n",
    "        p_value_dict[(drug, model)] = p_value\n",
    "\n",
    "# print the p-value less than 0.05\n",
    "for key in p_value_dict:\n",
    "    if p_value_dict[key] < 0.05:\n",
    "        print(key, p_value_dict[key])"
   ]
  },
  {
   "cell_type": "code",
   "execution_count": 49,
   "metadata": {},
   "outputs": [],
   "source": [
    "# plot the auroc for all drugs in the Walker dataset\n",
    "def binaryBarPlotAblation(dataset, matrix):\n",
    "    drug_list = getDrugList(dataset)\n",
    "    # model_list = ['nn','MutEmbAblation_min', 'MutEmbAblation_mean', 'MutEmbAblation_max', 'bert1_no_pretrained', 'bert1', 'bert1_no_freeze']\n",
    "    model_list = ['nn','MutEmbAblation_min', 'MutEmbAblation_mean', 'MutEmbAblation_max', 'bert1', 'bert1_no_freeze']\n",
    "    matrix_name = {'sen': 'Sensitivity', 'spe': 'Specificity', 'f1': 'F1-score', 'auroc': 'AUROC', 'mcc': 'MCC', 'auprc': 'AUPRC'}\n",
    "    # group bar plot\n",
    "    X_axis = np.arange(len(drug_list))\n",
    "    res_dict = {}\n",
    "    y_min = 1\n",
    "    for model in model_list:\n",
    "        res_dict[model] = {'mean': [], 'std': []}\n",
    "        for drug in drug_list:\n",
    "            mean_value, std_value = getBinaryResults(dataset, drug, model)[matrix]\n",
    "            res_dict[model]['mean'].append(mean_value)\n",
    "            res_dict[model]['std'].append(std_value)\n",
    "            if mean_value < y_min:\n",
    "                y_min = mean_value\n",
    "    # let y_min be the smallest 0.1 multiple\n",
    "    y_min = int(y_min * 10) / 10\n",
    "\n",
    "    width = 0.15\n",
    "    fig, ax = plt.subplots(figsize=(15, 5))\n",
    "    for i, model in enumerate(model_list):\n",
    "        ax.bar(X_axis + i * width, res_dict[model]['mean'], width, label=model)\n",
    "    # plot the std as error bar with lowlims=True, don't show the arrow\n",
    "    for i, model in enumerate(model_list):\n",
    "        _, caplines, _ = ax.errorbar(X_axis + i * width, res_dict[model]['mean'], yerr=res_dict[model]['std'], fmt='none', ecolor='dimgray', capsize=2, capthick=1, elinewidth=2, lolims=True)\n",
    "        caplines[0].set_marker('_')\n",
    "    \n",
    "    ax.set_ylim(ymin=y_min)\n",
    "    ax.set_xlabel('Drug')\n",
    "    ax.set_ylabel(matrix_name[matrix])\n",
    "    ax.set_xticks(X_axis + width)\n",
    "    ax.set_xticklabels([drug for drug in drug_list])\n",
    "    ax.legend()\n",
    "    # plt.savefig(f'../Figures/res_{dataset}_binary_{matrix}.png', bbox_inches='tight')\n",
    "    plt.show()"
   ]
  },
  {
   "cell_type": "code",
   "execution_count": 50,
   "metadata": {},
   "outputs": [
    {
     "data": {
      "image/png": "[encoded data removed]",
      "text/plain": [
       "<Figure size 1080x360 with 1 Axes>"
      ]
     },
     "metadata": {
      "needs_background": "light"
     },
     "output_type": "display_data"
    }
   ],
   "source": [
    "binaryBarPlotAblation('Walker', 'auroc')"
   ]
  },
  {
   "cell_type": "code",
   "execution_count": 46,
   "metadata": {},
   "outputs": [
    {
     "name": "stdout",
     "output_type": "stream",
     "text": [
      "('RIF', 'MutEmbAblation_max') 0.012847372364343263\n",
      "('INH', 'MutEmbAblation_min') 0.02328783422541396\n",
      "('INH', 'MutEmbAblation_mean') 0.01506164320046033\n",
      "('INH', 'MutEmbAblation_max') 0.03983916291924077\n",
      "('EMB', 'bert1_no_pretrained') 0.02655868609810489\n",
      "('PZA', 'MutEmbAblation_min') 0.00039047888752426945\n",
      "('PZA', 'MutEmbAblation_mean') 0.035123800126980645\n",
      "('PZA', 'MutEmbAblation_max') 0.000857793413580863\n",
      "('PZA', 'bert1_no_pretrained') 0.0016601910552776417\n",
      "('SM', 'bert1_no_pretrained') 0.03938431517425063\n",
      "('OFX', 'MutEmbAblation_min') 0.03348907705133447\n",
      "('CAP', 'MutEmbAblation_min') 0.010459941209706747\n",
      "('CAP', 'MutEmbAblation_mean') 0.006801827994922884\n",
      "('CAP', 'MutEmbAblation_max') 0.021060997084318887\n",
      "('KAN', 'MutEmbAblation_min') 0.034478482307686124\n",
      "('KAN', 'MutEmbAblation_mean') 0.01640840338905696\n"
     ]
    }
   ],
   "source": [
    "# calculate the p-value of the difference between the bert1 and bert1_no_freeze models\n",
    "# the matric is auroc\n",
    "drug_list = getDrugList('Walker')\n",
    "model_list = ['MutEmbAblation_min', 'MutEmbAblation_mean', 'MutEmbAblation_max', 'bert1_no_pretrained', 'bert1', 'bert1_no_freeze']\n",
    "\n",
    "p_value_dict = {}\n",
    "for drug in drug_list:\n",
    "    for model in model_list:\n",
    "        p_value = binaryPValue('Walker', drug, 'auroc', 'bert1', model)\n",
    "        p_value_dict[(drug, model)] = p_value\n",
    "\n",
    "# print the p-value less than 0.05\n",
    "for key in p_value_dict:\n",
    "    if p_value_dict[key] < 0.05:\n",
    "        print(key, p_value_dict[key])"
   ]
  },
  {
   "cell_type": "code",
   "execution_count": 2,
   "metadata": {},
   "outputs": [
    {
     "name": "stdout",
     "output_type": "stream",
     "text": [
      "0.5554454421055856\n"
     ]
    }
   ],
   "source": [
    "import numpy as np\n",
    "import scipy.stats as stats\n",
    "\n",
    "# Example data\n",
    "list1 = [1.2, 2.4, 2.8, 3.1, 4.5, 5.0, 5.6, 6.2, 6.8, 7.5]\n",
    "list2 = [1.1, 2.5, 2.7, 3.0, 4.6, 5.1, 5.5, 6.3, 6.7, 7.4]\n",
    "\n",
    "_, p_value = stats.ttest_rel(list1, list2)\n",
    "print(p_value)"
   ]
  },
  {
   "cell_type": "code",
   "execution_count": 3,
   "metadata": {},
   "outputs": [
    {
     "name": "stdout",
     "output_type": "stream",
     "text": [
      "T-statistic: 0.6123724356957946\n",
      "P-value: 0.5554454421055856\n"
     ]
    }
   ],
   "source": [
    "from scipy.special import stdtr\n",
    "import math\n",
    "\n",
    "# Step 1: Calculate differences\n",
    "differences = [x - y for x, y in zip(list1, list2)]\n",
    "\n",
    "# Step 2: Compute the mean and standard deviation of the differences\n",
    "mean_diff = np.mean(differences)\n",
    "std_diff = np.std(differences, ddof=1)\n",
    "\n",
    "# Step 3: Calculate the t-statistic\n",
    "n = len(differences)\n",
    "t_stat = mean_diff / (std_diff / math.sqrt(n))\n",
    "\n",
    "# Step 4: Compute the degrees of freedom\n",
    "df = n - 1\n",
    "\n",
    "# Step 5: Calculate the p-value using the t-distribution\n",
    "p_value = 2 * stdtr(df, -abs(t_stat))\n",
    "\n",
    "# Print the results\n",
    "print(f\"T-statistic: {t_stat}\")\n",
    "print(f\"P-value: {p_value}\")"
   ]
  },
  {
   "cell_type": "code",
   "execution_count": 1,
   "metadata": {},
   "outputs": [],
   "source": [
    "# Copy files to the correct folder\n",
    "import os\n",
    "model_list = ['bert1', 'bert1_no_freeze', 'bert1_no_pretrained', 'MutEmbAblation_min', 'MutEmbAblation_mean', 'MutEmbAblation_max', 'nn', 'CNNGWP2']\n",
    "for file in os.listdir('/data2/Projects/Thesis_codes/Results/single_binary_classification/Walker'):\n",
    "    for model in model_list:\n",
    "        if model in file:\n",
    "            os.system(f'cp /data2/Projects/Thesis_codes/Results/single_binary_classification/Walker/{file} /data2/Projects/Airframe/results/{file}')"
   ]
  },
  {
   "cell_type": "code",
   "execution_count": null,
   "metadata": {},
   "outputs": [],
   "source": []
  }
 ],
 "metadata": {
  "kernelspec": {
   "display_name": "thesis",
   "language": "python",
   "name": "python3"
  },
  "language_info": {
   "codemirror_mode": {
    "name": "ipython",
    "version": 3
   },
   "file_extension": ".py",
   "mimetype": "text/x-python",
   "name": "python",
   "nbconvert_exporter": "python",
   "pygments_lexer": "ipython3",
   "version": "3.9.16"
  }
 },
 "nbformat": 4,
 "nbformat_minor": 2
}
